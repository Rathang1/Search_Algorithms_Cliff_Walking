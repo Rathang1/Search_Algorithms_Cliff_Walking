{
 "cells": [
  {
   "cell_type": "markdown",
   "source": [
    " ### Name - Rathang Rajpal\n",
    " ### NET ID - RXR210009\n",
    " ### Course - CS 6364\n",
    " ### Course Name - Artificial Intelligence\n",
    " ### Section number - 002\n",
    " ### Assignment 4 - Cliff Walking Problem using A-star"
   ],
   "metadata": {
    "collapsed": false,
    "pycharm": {
     "name": "#%% md\n"
    }
   }
  },
  {
   "cell_type": "markdown",
   "source": [
    "### Importing the required libraries"
   ],
   "metadata": {
    "collapsed": false,
    "pycharm": {
     "name": "#%% md\n"
    }
   }
  },
  {
   "cell_type": "code",
   "execution_count": 14,
   "metadata": {
    "collapsed": true,
    "pycharm": {
     "name": "#%%\n"
    }
   },
   "outputs": [],
   "source": [
    "import numpy as np\n",
    "import math\n",
    "from queue import PriorityQueue"
   ]
  },
  {
   "cell_type": "markdown",
   "source": [
    "### Defining a play area of size 6,10"
   ],
   "metadata": {
    "collapsed": false,
    "pycharm": {
     "name": "#%% md\n"
    }
   }
  },
  {
   "cell_type": "code",
   "execution_count": 15,
   "outputs": [
    {
     "data": {
      "text/plain": "array([[0., 0., 0., 0., 0., 0., 0., 0., 0., 0.],\n       [0., 0., 0., 0., 0., 0., 0., 0., 0., 0.],\n       [0., 0., 0., 0., 0., 0., 0., 0., 0., 0.],\n       [0., 0., 0., 0., 0., 0., 0., 0., 0., 0.],\n       [0., 0., 0., 0., 0., 0., 0., 0., 0., 0.],\n       [0., 0., 0., 0., 0., 0., 0., 0., 0., 0.]])"
     },
     "execution_count": 15,
     "metadata": {},
     "output_type": "execute_result"
    }
   ],
   "source": [
    "Play_area = np.zeros((6,10))\n",
    "Play_area"
   ],
   "metadata": {
    "collapsed": false,
    "pycharm": {
     "name": "#%%\n"
    }
   }
  },
  {
   "cell_type": "markdown",
   "source": [
    "### initializing the play area with the values given in the question"
   ],
   "metadata": {
    "collapsed": false,
    "pycharm": {
     "name": "#%% md\n"
    }
   }
  },
  {
   "cell_type": "code",
   "execution_count": 16,
   "outputs": [],
   "source": [
    "def initialize():\n",
    "    Play_area = np.zeros((6,10))\n",
    "    for i in range(Play_area.shape[0]):\n",
    "        for j in range(Play_area.shape[1]):\n",
    "            if(i==5 and j>0 and j<9):\n",
    "                Play_area[i][j] = math.inf\n",
    "            elif((i>=2 and i<=4) and ((j<=3 and j>=1) or (j<=7 and j>=5))):\n",
    "                Play_area[i][j] = 5\n",
    "            elif(i==5 and j==0):\n",
    "                Play_area[i][j] = 0\n",
    "            else:\n",
    "                Play_area[i][j] = 1\n",
    "    return Play_area\n"
   ],
   "metadata": {
    "collapsed": false,
    "pycharm": {
     "name": "#%%\n"
    }
   }
  },
  {
   "cell_type": "code",
   "execution_count": 17,
   "outputs": [],
   "source": [
    "x = initialize()"
   ],
   "metadata": {
    "collapsed": false,
    "pycharm": {
     "name": "#%%\n"
    }
   }
  },
  {
   "cell_type": "markdown",
   "source": [
    "### This is the initial state of the world given to us in the question"
   ],
   "metadata": {
    "collapsed": false,
    "pycharm": {
     "name": "#%% md\n"
    }
   }
  },
  {
   "cell_type": "code",
   "execution_count": 18,
   "outputs": [
    {
     "data": {
      "text/plain": "array([[ 1.,  1.,  1.,  1.,  1.,  1.,  1.,  1.,  1.,  1.],\n       [ 1.,  1.,  1.,  1.,  1.,  1.,  1.,  1.,  1.,  1.],\n       [ 1.,  5.,  5.,  5.,  1.,  5.,  5.,  5.,  1.,  1.],\n       [ 1.,  5.,  5.,  5.,  1.,  5.,  5.,  5.,  1.,  1.],\n       [ 1.,  5.,  5.,  5.,  1.,  5.,  5.,  5.,  1.,  1.],\n       [ 0., inf, inf, inf, inf, inf, inf, inf, inf,  1.]])"
     },
     "execution_count": 18,
     "metadata": {},
     "output_type": "execute_result"
    }
   ],
   "source": [
    "x"
   ],
   "metadata": {
    "collapsed": false,
    "pycharm": {
     "name": "#%%\n"
    }
   }
  },
  {
   "cell_type": "markdown",
   "source": [
    "### initializing a disctionary to store information about every node that our agent might go on\n",
    "### * It has values like parent to check the previous node/ parent node for every node\n",
    "### * It stores if a node has been visited yet or not\n",
    "### * It even stores the cost to reach to that particular node\n",
    "### * We have a key in the dictionary that tracks the eucledian dist for each point from the target"
   ],
   "metadata": {
    "collapsed": false,
    "pycharm": {
     "name": "#%% md\n"
    }
   }
  },
  {
   "cell_type": "code",
   "execution_count": 19,
   "outputs": [],
   "source": [
    "data_dict = {}\n",
    "for i in range(Play_area.shape[0]):\n",
    "        for j in range(Play_area.shape[1]):\n",
    "            data_dict[(i,j)] = {'parent': None, 'cost_to_reach': 0, 'visited':False, 'Eucledian_dist': 0}"
   ],
   "metadata": {
    "collapsed": false,
    "pycharm": {
     "name": "#%%\n"
    }
   }
  },
  {
   "cell_type": "code",
   "execution_count": 20,
   "outputs": [
    {
     "data": {
      "text/plain": "{'parent': None, 'cost_to_reach': 0, 'visited': False, 'Eucledian_dist': 0}"
     },
     "execution_count": 20,
     "metadata": {},
     "output_type": "execute_result"
    }
   ],
   "source": [
    "data_dict[(0,0)]"
   ],
   "metadata": {
    "collapsed": false,
    "pycharm": {
     "name": "#%%\n"
    }
   }
  },
  {
   "cell_type": "markdown",
   "source": [
    "### Adding the eucledian distance for every point in our dictionary"
   ],
   "metadata": {
    "collapsed": false,
    "pycharm": {
     "name": "#%% md\n"
    }
   }
  },
  {
   "cell_type": "code",
   "execution_count": 21,
   "outputs": [],
   "source": [
    "for i in range(x.shape[0]):\n",
    "        for j in range(x.shape[1]):\n",
    "            data_dict[(i,j)]['Eucledian_dist'] = math.dist([i,j], [5,9])"
   ],
   "metadata": {
    "collapsed": false,
    "pycharm": {
     "name": "#%%\n"
    }
   }
  },
  {
   "cell_type": "code",
   "execution_count": 23,
   "outputs": [
    {
     "data": {
      "text/plain": "{'parent': None, 'cost_to_reach': 0, 'visited': False, 'Eucledian_dist': 9.0}"
     },
     "execution_count": 23,
     "metadata": {},
     "output_type": "execute_result"
    }
   ],
   "source": [
    "data_dict[(5,0)]"
   ],
   "metadata": {
    "collapsed": false,
    "pycharm": {
     "name": "#%%\n"
    }
   }
  },
  {
   "cell_type": "markdown",
   "source": [
    "### Creating a function that returns all the possible neigbors for a given position"
   ],
   "metadata": {
    "collapsed": false,
    "pycharm": {
     "name": "#%% md\n"
    }
   }
  },
  {
   "cell_type": "code",
   "execution_count": 24,
   "outputs": [],
   "source": [
    "def valid_neighbors_a_star(curr):\n",
    "  neighbors = [(curr[0]-1,curr[1]), (curr[0],curr[1]+1),(curr[0]+1,curr[1]), (curr[0],curr[1]-1)]\n",
    "  res = []\n",
    "  for i in neighbors:\n",
    "    if i[0]==5 and (i[1]<=8 and i[1]>=1):\n",
    "      continue\n",
    "    if(i[0]<6 and i[0]>=0) and (i[1]>=0 and i[1]<10):\n",
    "      res.append(i)\n",
    "  return res"
   ],
   "metadata": {
    "collapsed": false,
    "pycharm": {
     "name": "#%%\n"
    }
   }
  },
  {
   "cell_type": "code",
   "execution_count": 25,
   "outputs": [
    {
     "data": {
      "text/plain": "[(3, 0), (4, 1), (5, 0)]"
     },
     "execution_count": 25,
     "metadata": {},
     "output_type": "execute_result"
    }
   ],
   "source": [
    "valid_neighbors_a_star((4,0))"
   ],
   "metadata": {
    "collapsed": false,
    "pycharm": {
     "name": "#%%\n"
    }
   }
  },
  {
   "cell_type": "markdown",
   "source": [
    "### Initializing the agent to the start point which is (5,0) or (6,1) as we have 0 based indexing"
   ],
   "metadata": {
    "collapsed": false,
    "pycharm": {
     "name": "#%% md\n"
    }
   }
  },
  {
   "cell_type": "code",
   "execution_count": 26,
   "outputs": [],
   "source": [
    "start = (5,0)\n",
    "data_dict[start]['visited'] = True\n",
    "nodes = PriorityQueue()\n",
    "nodes.put((0,start))"
   ],
   "metadata": {
    "collapsed": false,
    "pycharm": {
     "name": "#%%\n"
    }
   }
  },
  {
   "cell_type": "markdown",
   "source": [
    "### Run the algorithm untill GOAL state is reached which in our case is (5,9)"
   ],
   "metadata": {
    "collapsed": false,
    "pycharm": {
     "name": "#%% md\n"
    }
   }
  },
  {
   "cell_type": "code",
   "execution_count": 27,
   "outputs": [],
   "source": [
    "while(True):\n",
    "    current = nodes.get()[1]\n",
    "    if(current == (5,9)):\n",
    "        break\n",
    "    # print(current)\n",
    "    neighbors = valid_neighbors_a_star(current)\n",
    "    # print(neighbors)\n",
    "    for i in neighbors:\n",
    "        if(data_dict[i]['visited'] == False):\n",
    "            data_dict[i]['visited'] = True\n",
    "            data_dict[i]['parent'] = current\n",
    "            data_dict[i]['cost_to_reach'] = x[i[0]][i[1]] + data_dict[current]['cost_to_reach']\n",
    "            nodes.put((data_dict[i]['Eucledian_dist'] + data_dict[i]['cost_to_reach'],i))"
   ],
   "metadata": {
    "collapsed": false,
    "pycharm": {
     "name": "#%%\n"
    }
   }
  },
  {
   "cell_type": "code",
   "execution_count": 28,
   "outputs": [
    {
     "name": "stdout",
     "output_type": "stream",
     "text": [
      "{'parent': (4, 9), 'cost_to_reach': 17.0, 'visited': True, 'Eucledian_dist': 0.0}\n"
     ]
    }
   ],
   "source": [
    "print(data_dict[(5,9)])"
   ],
   "metadata": {
    "collapsed": false,
    "pycharm": {
     "name": "#%%\n"
    }
   }
  },
  {
   "cell_type": "markdown",
   "source": [
    "### Area explored by A-star"
   ],
   "metadata": {
    "collapsed": false,
    "pycharm": {
     "name": "#%% md\n"
    }
   }
  },
  {
   "cell_type": "code",
   "execution_count": 29,
   "outputs": [],
   "source": [
    "Play_area = initialize()"
   ],
   "metadata": {
    "collapsed": false,
    "pycharm": {
     "name": "#%%\n"
    }
   }
  },
  {
   "cell_type": "code",
   "execution_count": 30,
   "outputs": [],
   "source": [
    "for i in range(Play_area.shape[0]):\n",
    "        for j in range(Play_area.shape[1]):\n",
    "            Play_area[i][j] = data_dict[(i,j)]['cost_to_reach']"
   ],
   "metadata": {
    "collapsed": false,
    "pycharm": {
     "name": "#%%\n"
    }
   }
  },
  {
   "cell_type": "code",
   "execution_count": 31,
   "outputs": [
    {
     "data": {
      "text/plain": "array([[ 5.,  6.,  7.,  8.,  9., 10., 11., 12., 13., 14.],\n       [ 4.,  5.,  6.,  7.,  8.,  9., 10., 11., 12., 13.],\n       [ 3.,  8., 11., 12.,  9., 14., 15., 16., 13., 14.],\n       [ 2.,  7., 12., 15., 10., 15.,  0., 19., 14., 15.],\n       [ 1.,  6., 11., 16., 11., 16.,  0., 20., 15., 16.],\n       [ 0.,  0.,  0.,  0.,  0.,  0.,  0.,  0.,  0., 17.]])"
     },
     "execution_count": 31,
     "metadata": {},
     "output_type": "execute_result"
    }
   ],
   "source": [
    "Play_area"
   ],
   "metadata": {
    "collapsed": false,
    "pycharm": {
     "name": "#%%\n"
    }
   }
  },
  {
   "cell_type": "code",
   "execution_count": 32,
   "outputs": [],
   "source": [
    "A_star_path = [(5,9)]\n",
    "while True:\n",
    "    curr = A_star_path[-1]\n",
    "    if(data_dict[curr]['parent']==None):\n",
    "        break\n",
    "    A_star_path.append(data_dict[curr]['parent'])\n",
    "A_star_path.reverse()"
   ],
   "metadata": {
    "collapsed": false,
    "pycharm": {
     "name": "#%%\n"
    }
   }
  },
  {
   "cell_type": "markdown",
   "source": [
    "### Path returned after A-star traversal"
   ],
   "metadata": {
    "collapsed": false,
    "pycharm": {
     "name": "#%% md\n"
    }
   }
  },
  {
   "cell_type": "code",
   "execution_count": 33,
   "outputs": [
    {
     "name": "stdout",
     "output_type": "stream",
     "text": [
      "(5, 0) (4, 0) (3, 0) (2, 0) (1, 0) (1, 1) (1, 2) (1, 3) (1, 4) (1, 5) (1, 6) (1, 7) (1, 8) (2, 8) (3, 8) (4, 8) (4, 9) (5, 9)\n"
     ]
    }
   ],
   "source": [
    "print(*A_star_path)"
   ],
   "metadata": {
    "collapsed": false,
    "pycharm": {
     "name": "#%%\n"
    }
   }
  },
  {
   "cell_type": "markdown",
   "source": [
    "### Depicting the Path traversed by our agent"
   ],
   "metadata": {
    "collapsed": false,
    "pycharm": {
     "name": "#%% md\n"
    }
   }
  },
  {
   "cell_type": "code",
   "execution_count": 34,
   "outputs": [
    {
     "data": {
      "text/plain": "array([[ 0.,  0.,  0.,  0.,  0.,  0.,  0.,  0.,  0.,  0.],\n       [ 4.,  5.,  6.,  7.,  8.,  9., 10., 11., 12.,  0.],\n       [ 3.,  0.,  0.,  0.,  0.,  0.,  0.,  0., 13.,  0.],\n       [ 2.,  0.,  0.,  0.,  0.,  0.,  0.,  0., 14.,  0.],\n       [ 1.,  0.,  0.,  0.,  0.,  0.,  0.,  0., 15., 16.],\n       [ 0.,  0.,  0.,  0.,  0.,  0.,  0.,  0.,  0., 17.]])"
     },
     "execution_count": 34,
     "metadata": {},
     "output_type": "execute_result"
    }
   ],
   "source": [
    "Path_traversed = np.zeros((6,10))\n",
    "for i in A_star_path:\n",
    "    Path_traversed[i] = data_dict[(i[0],i[1])]['cost_to_reach']\n",
    "Path_traversed"
   ],
   "metadata": {
    "collapsed": false,
    "pycharm": {
     "name": "#%%\n"
    }
   }
  },
  {
   "cell_type": "markdown",
   "source": [
    "## Cost to reach the GOAL"
   ],
   "metadata": {
    "collapsed": false,
    "pycharm": {
     "name": "#%% md\n"
    }
   }
  },
  {
   "cell_type": "code",
   "execution_count": 35,
   "outputs": [
    {
     "name": "stdout",
     "output_type": "stream",
     "text": [
      "17.0\n"
     ]
    }
   ],
   "source": [
    "print(data_dict[(5,9)]['cost_to_reach'])"
   ],
   "metadata": {
    "collapsed": false,
    "pycharm": {
     "name": "#%%\n"
    }
   }
  },
  {
   "cell_type": "code",
   "execution_count": null,
   "outputs": [],
   "source": [],
   "metadata": {
    "collapsed": false,
    "pycharm": {
     "name": "#%%\n"
    }
   }
  }
 ],
 "metadata": {
  "kernelspec": {
   "display_name": "Python 3",
   "language": "python",
   "name": "python3"
  },
  "language_info": {
   "codemirror_mode": {
    "name": "ipython",
    "version": 2
   },
   "file_extension": ".py",
   "mimetype": "text/x-python",
   "name": "python",
   "nbconvert_exporter": "python",
   "pygments_lexer": "ipython2",
   "version": "2.7.6"
  }
 },
 "nbformat": 4,
 "nbformat_minor": 0
}