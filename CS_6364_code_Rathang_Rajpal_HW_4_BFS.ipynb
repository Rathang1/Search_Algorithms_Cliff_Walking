{
 "cells": [
  {
   "cell_type": "markdown",
   "source": [
    " ### Name - Rathang Rajpal\n",
    " ### NET ID - RXR210009\n",
    " ### Course - CS 6364\n",
    " ### Course Name - Artificial Intelligence\n",
    " ### Section number - 002\n",
    " ### Assignment 4 - Cliff Walking Problem using BFS"
   ],
   "metadata": {
    "collapsed": false,
    "pycharm": {
     "name": "#%% md\n"
    }
   }
  },
  {
   "cell_type": "markdown",
   "source": [
    "### Importing the required libraries"
   ],
   "metadata": {
    "collapsed": false,
    "pycharm": {
     "name": "#%% md\n"
    }
   }
  },
  {
   "cell_type": "code",
   "execution_count": 1,
   "metadata": {
    "collapsed": true,
    "pycharm": {
     "name": "#%%\n"
    }
   },
   "outputs": [],
   "source": [
    "import numpy as np\n",
    "import math"
   ]
  },
  {
   "cell_type": "markdown",
   "source": [
    "### Defining a play area of size 6,10"
   ],
   "metadata": {
    "collapsed": false,
    "pycharm": {
     "name": "#%% md\n"
    }
   }
  },
  {
   "cell_type": "code",
   "execution_count": 2,
   "outputs": [
    {
     "data": {
      "text/plain": "array([[0., 0., 0., 0., 0., 0., 0., 0., 0., 0.],\n       [0., 0., 0., 0., 0., 0., 0., 0., 0., 0.],\n       [0., 0., 0., 0., 0., 0., 0., 0., 0., 0.],\n       [0., 0., 0., 0., 0., 0., 0., 0., 0., 0.],\n       [0., 0., 0., 0., 0., 0., 0., 0., 0., 0.],\n       [0., 0., 0., 0., 0., 0., 0., 0., 0., 0.]])"
     },
     "execution_count": 2,
     "metadata": {},
     "output_type": "execute_result"
    }
   ],
   "source": [
    "Play_area = np.zeros((6,10))\n",
    "Play_area"
   ],
   "metadata": {
    "collapsed": false,
    "pycharm": {
     "name": "#%%\n"
    }
   }
  },
  {
   "cell_type": "markdown",
   "source": [
    "### initializing the play area with the values given in the question"
   ],
   "metadata": {
    "collapsed": false,
    "pycharm": {
     "name": "#%% md\n"
    }
   }
  },
  {
   "cell_type": "code",
   "execution_count": 3,
   "outputs": [],
   "source": [
    "def initialize():\n",
    "    Play_area = np.zeros((6,10))\n",
    "    for i in range(Play_area.shape[0]):\n",
    "        for j in range(Play_area.shape[1]):\n",
    "            if(i==5 and j>0 and j<9):\n",
    "                Play_area[i][j] = math.inf\n",
    "            elif((i>=2 and i<=4) and ((j<=3 and j>=1) or (j<=7 and j>=5))):\n",
    "                Play_area[i][j] = 5\n",
    "            elif(i==5 and j==0):\n",
    "                Play_area[i][j] = 0\n",
    "            else:\n",
    "                Play_area[i][j] = 1\n",
    "    return Play_area\n"
   ],
   "metadata": {
    "collapsed": false,
    "pycharm": {
     "name": "#%%\n"
    }
   }
  },
  {
   "cell_type": "code",
   "execution_count": 4,
   "outputs": [],
   "source": [
    "x = initialize()"
   ],
   "metadata": {
    "collapsed": false,
    "pycharm": {
     "name": "#%%\n"
    }
   }
  },
  {
   "cell_type": "markdown",
   "source": [
    "### This is the initial state of the world given to us in the question"
   ],
   "metadata": {
    "collapsed": false,
    "pycharm": {
     "name": "#%% md\n"
    }
   }
  },
  {
   "cell_type": "code",
   "execution_count": 5,
   "outputs": [
    {
     "data": {
      "text/plain": "array([[ 1.,  1.,  1.,  1.,  1.,  1.,  1.,  1.,  1.,  1.],\n       [ 1.,  1.,  1.,  1.,  1.,  1.,  1.,  1.,  1.,  1.],\n       [ 1.,  5.,  5.,  5.,  1.,  5.,  5.,  5.,  1.,  1.],\n       [ 1.,  5.,  5.,  5.,  1.,  5.,  5.,  5.,  1.,  1.],\n       [ 1.,  5.,  5.,  5.,  1.,  5.,  5.,  5.,  1.,  1.],\n       [ 0., inf, inf, inf, inf, inf, inf, inf, inf,  1.]])"
     },
     "execution_count": 5,
     "metadata": {},
     "output_type": "execute_result"
    }
   ],
   "source": [
    "x"
   ],
   "metadata": {
    "collapsed": false,
    "pycharm": {
     "name": "#%%\n"
    }
   }
  },
  {
   "cell_type": "markdown",
   "source": [
    "### initializing a disctionary to store information about every node that our agent might go on\n",
    "### * It has values like parent to check the previous node/ parent node for every node\n",
    "### * It stores if a node has been visited yet or not\n",
    "### * It even stores the cost to reach to that particular node"
   ],
   "metadata": {
    "collapsed": false,
    "pycharm": {
     "name": "#%% md\n"
    }
   }
  },
  {
   "cell_type": "code",
   "execution_count": 6,
   "outputs": [],
   "source": [
    "data_dict = {}\n",
    "for i in range(Play_area.shape[0]):\n",
    "        for j in range(Play_area.shape[1]):\n",
    "            data_dict[(i,j)] = {'parent': None, 'cost_to_reach': 0, 'visited':False}"
   ],
   "metadata": {
    "collapsed": false,
    "pycharm": {
     "name": "#%%\n"
    }
   }
  },
  {
   "cell_type": "code",
   "execution_count": 7,
   "outputs": [
    {
     "data": {
      "text/plain": "{'parent': None, 'cost_to_reach': 0, 'visited': False}"
     },
     "execution_count": 7,
     "metadata": {},
     "output_type": "execute_result"
    }
   ],
   "source": [
    "data_dict[(0,0)]"
   ],
   "metadata": {
    "collapsed": false,
    "pycharm": {
     "name": "#%%\n"
    }
   }
  },
  {
   "cell_type": "markdown",
   "source": [
    "### Initializing the agent to the start point which is (5,0) or (6,1) as we have 0 based indexing"
   ],
   "metadata": {
    "collapsed": false,
    "pycharm": {
     "name": "#%% md\n"
    }
   }
  },
  {
   "cell_type": "code",
   "execution_count": 8,
   "outputs": [],
   "source": [
    "start = (5,0)\n",
    "data_dict[start]['visited'] = True\n",
    "nodes = [start]"
   ],
   "metadata": {
    "collapsed": false,
    "pycharm": {
     "name": "#%%\n"
    }
   }
  },
  {
   "cell_type": "markdown",
   "source": [
    "### Creating a function that returns all the possible neigbors for a given position"
   ],
   "metadata": {
    "collapsed": false,
    "pycharm": {
     "name": "#%% md\n"
    }
   }
  },
  {
   "cell_type": "code",
   "execution_count": 9,
   "outputs": [],
   "source": [
    "def valid_neighbors_bfs(curr):\n",
    "  neighbors = [(curr[0]-1,curr[1]), (curr[0],curr[1]+1),(curr[0]+1,curr[1]), (curr[0],curr[1]-1)]\n",
    "  res = []\n",
    "  for i in neighbors:\n",
    "    if i[0]==5 and (i[1]<=8 and i[1]>=1):\n",
    "      continue\n",
    "    if(i[0]<6 and i[0]>=0) and (i[1]>=0 and i[1]<10):\n",
    "      res.append(i)\n",
    "  return res"
   ],
   "metadata": {
    "collapsed": false,
    "pycharm": {
     "name": "#%%\n"
    }
   }
  },
  {
   "cell_type": "markdown",
   "source": [
    "### Run the algorithm untill GOAL state is reached which in our case is (5,9)"
   ],
   "metadata": {
    "collapsed": false,
    "pycharm": {
     "name": "#%% md\n"
    }
   }
  },
  {
   "cell_type": "code",
   "execution_count": 10,
   "outputs": [],
   "source": [
    "while(True):\n",
    "    current = nodes.pop(0)\n",
    "    if(current == (5,9)):\n",
    "        break\n",
    "    # print(current)\n",
    "    neighbors = valid_neighbors_bfs(current)\n",
    "    # print(neighbors)\n",
    "    for i in neighbors:\n",
    "        if(data_dict[i]['visited'] == False):\n",
    "            nodes.append(i)\n",
    "            data_dict[i]['visited'] = True\n",
    "            data_dict[i]['parent'] = current\n",
    "            data_dict[i]['cost_to_reach'] = x[i[0]][i[1]] + data_dict[current]['cost_to_reach']"
   ],
   "metadata": {
    "collapsed": false,
    "pycharm": {
     "name": "#%%\n"
    }
   }
  },
  {
   "cell_type": "code",
   "execution_count": 11,
   "outputs": [],
   "source": [
    "Play_area = initialize()"
   ],
   "metadata": {
    "collapsed": false,
    "pycharm": {
     "name": "#%%\n"
    }
   }
  },
  {
   "cell_type": "code",
   "execution_count": 12,
   "outputs": [],
   "source": [
    "for i in range(Play_area.shape[0]):\n",
    "        for j in range(Play_area.shape[1]):\n",
    "            Play_area[i][j] = data_dict[(i,j)]['cost_to_reach']"
   ],
   "metadata": {
    "collapsed": false,
    "pycharm": {
     "name": "#%%\n"
    }
   }
  },
  {
   "cell_type": "markdown",
   "source": [
    "### Area explored by BFS"
   ],
   "metadata": {
    "collapsed": false,
    "pycharm": {
     "name": "#%% md\n"
    }
   }
  },
  {
   "cell_type": "code",
   "execution_count": 13,
   "outputs": [
    {
     "data": {
      "text/plain": "array([[ 5.,  6.,  7.,  8.,  9., 10., 11., 12.,  0.,  0.],\n       [ 4.,  5.,  6.,  7.,  8.,  9., 10., 11., 12.,  0.],\n       [ 3.,  8., 13., 18., 19., 24., 29., 34., 35., 36.],\n       [ 2.,  7., 12., 17., 18., 23., 28., 33., 34., 35.],\n       [ 1.,  6., 11., 16., 17., 22., 27., 32., 33., 34.],\n       [ 0.,  0.,  0.,  0.,  0.,  0.,  0.,  0.,  0., 35.]])"
     },
     "execution_count": 13,
     "metadata": {},
     "output_type": "execute_result"
    }
   ],
   "source": [
    "Play_area"
   ],
   "metadata": {
    "collapsed": false,
    "pycharm": {
     "name": "#%%\n"
    }
   }
  },
  {
   "cell_type": "markdown",
   "source": [
    "### Path returned after BFS traversal"
   ],
   "metadata": {
    "collapsed": false,
    "pycharm": {
     "name": "#%% md\n"
    }
   }
  },
  {
   "cell_type": "code",
   "execution_count": 14,
   "outputs": [],
   "source": [
    "BFS_Path = [(5,9)]\n",
    "while True:\n",
    "    curr = BFS_Path[-1]\n",
    "    if(data_dict[curr]['parent']==None):\n",
    "        break\n",
    "    BFS_Path.append(data_dict[curr]['parent'])\n",
    "BFS_Path.reverse()"
   ],
   "metadata": {
    "collapsed": false,
    "pycharm": {
     "name": "#%%\n"
    }
   }
  },
  {
   "cell_type": "code",
   "execution_count": 15,
   "outputs": [
    {
     "name": "stdout",
     "output_type": "stream",
     "text": [
      "(5, 0) (4, 0) (4, 1) (4, 2) (4, 3) (4, 4) (4, 5) (4, 6) (4, 7) (4, 8) (4, 9) (5, 9)\n"
     ]
    }
   ],
   "source": [
    "print(*BFS_Path)"
   ],
   "metadata": {
    "collapsed": false,
    "pycharm": {
     "name": "#%%\n"
    }
   }
  },
  {
   "cell_type": "markdown",
   "source": [
    "### Depicting the Path traversed by our agent"
   ],
   "metadata": {
    "collapsed": false,
    "pycharm": {
     "name": "#%% md\n"
    }
   }
  },
  {
   "cell_type": "code",
   "execution_count": 16,
   "outputs": [
    {
     "data": {
      "text/plain": "array([[ 0.,  0.,  0.,  0.,  0.,  0.,  0.,  0.,  0.,  0.],\n       [ 0.,  0.,  0.,  0.,  0.,  0.,  0.,  0.,  0.,  0.],\n       [ 0.,  0.,  0.,  0.,  0.,  0.,  0.,  0.,  0.,  0.],\n       [ 0.,  0.,  0.,  0.,  0.,  0.,  0.,  0.,  0.,  0.],\n       [ 1.,  6., 11., 16., 17., 22., 27., 32., 33., 34.],\n       [ 0.,  0.,  0.,  0.,  0.,  0.,  0.,  0.,  0., 35.]])"
     },
     "execution_count": 16,
     "metadata": {},
     "output_type": "execute_result"
    }
   ],
   "source": [
    "Path_traversed = np.zeros((6,10))\n",
    "for i in BFS_Path:\n",
    "    Path_traversed[i] = data_dict[(i[0],i[1])]['cost_to_reach']\n",
    "Path_traversed"
   ],
   "metadata": {
    "collapsed": false,
    "pycharm": {
     "name": "#%%\n"
    }
   }
  },
  {
   "cell_type": "markdown",
   "source": [
    "## Cost to reach the GOAL"
   ],
   "metadata": {
    "collapsed": false,
    "pycharm": {
     "name": "#%% md\n"
    }
   }
  },
  {
   "cell_type": "code",
   "execution_count": 60,
   "outputs": [
    {
     "name": "stdout",
     "output_type": "stream",
     "text": [
      "35.0\n"
     ]
    }
   ],
   "source": [
    "print(data_dict[(5,9)]['cost_to_reach'])"
   ],
   "metadata": {
    "collapsed": false,
    "pycharm": {
     "name": "#%%\n"
    }
   }
  }
 ],
 "metadata": {
  "kernelspec": {
   "display_name": "Python 3",
   "language": "python",
   "name": "python3"
  },
  "language_info": {
   "codemirror_mode": {
    "name": "ipython",
    "version": 2
   },
   "file_extension": ".py",
   "mimetype": "text/x-python",
   "name": "python",
   "nbconvert_exporter": "python",
   "pygments_lexer": "ipython2",
   "version": "2.7.6"
  }
 },
 "nbformat": 4,
 "nbformat_minor": 0
}